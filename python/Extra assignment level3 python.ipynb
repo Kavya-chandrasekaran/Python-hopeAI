{
 "cells": [
  {
   "cell_type": "code",
   "execution_count": null,
   "id": "64066014-3d58-4e0e-ad01-6e21aa8ffc8f",
   "metadata": {},
   "outputs": [],
   "source": [
    "i=int(input(\"Value:\"))\n",
    "if i==10:\n",
    "    print(\"Correct\")"
   ]
  },
  {
   "cell_type": "code",
   "execution_count": 2,
   "id": "b77646f7-b309-4550-b3c8-a326a0f8e675",
   "metadata": {},
   "outputs": [
    {
     "name": "stdin",
     "output_type": "stream",
     "text": [
      "password: HOPE@123\n"
     ]
    },
    {
     "name": "stdout",
     "output_type": "stream",
     "text": [
      "Password is correct\n"
     ]
    }
   ],
   "source": [
    "password=input(\"password:\")\n",
    "if password==\"HOPE@123\":\n",
    "    print(\"Password is correct\")\n",
    "else:\n",
    "    print(\"Password is incorrect\")"
   ]
  },
  {
   "cell_type": "code",
   "execution_count": 10,
   "id": "cda7fcbc-19e9-45d0-aa38-11a08c6d2dca",
   "metadata": {},
   "outputs": [
    {
     "name": "stdin",
     "output_type": "stream",
     "text": [
      "age: 70\n"
     ]
    },
    {
     "name": "stdout",
     "output_type": "stream",
     "text": [
      "senior citizen\n"
     ]
    }
   ],
   "source": [
    "age=int(input(\"age:\"))\n",
    "if age<18:\n",
    "    print(\"children\")\n",
    "elif age<24:\n",
    "    print(\"Adult\")\n",
    "elif age<50:\n",
    "    print(\"Citizen\")\n",
    "else:\n",
    "    print(\"senior citizen\")"
   ]
  },
  {
   "cell_type": "code",
   "execution_count": 12,
   "id": "69f2ab00-9e83-44ab-8cbb-4557eaadfd07",
   "metadata": {},
   "outputs": [
    {
     "name": "stdin",
     "output_type": "stream",
     "text": [
      "Enter any number: 0\n"
     ]
    },
    {
     "name": "stdout",
     "output_type": "stream",
     "text": [
      "number is positive\n"
     ]
    }
   ],
   "source": [
    "number=int(input(\"Enter any number:\"))\n",
    "if number<0:\n",
    "    print(\"number is negative\")\n",
    "else:\n",
    "    print(\"number is positive\")"
   ]
  },
  {
   "cell_type": "code",
   "execution_count": 17,
   "id": "4fa93a91-b57c-4458-8b8d-9df62000d5b1",
   "metadata": {},
   "outputs": [
    {
     "name": "stdin",
     "output_type": "stream",
     "text": [
      "Enter a number to check: 23\n"
     ]
    },
    {
     "name": "stdout",
     "output_type": "stream",
     "text": [
      "Number is not divisible by 5\n"
     ]
    }
   ],
   "source": [
    "number=int(input(\"Enter a number to check:\"))\n",
    "if number%5==0:\n",
    "    print(\"Number is divisible by 5\")\n",
    "else:\n",
    "    print(\"Number is not divisible by 5\")"
   ]
  },
  {
   "cell_type": "code",
   "execution_count": null,
   "id": "e2710b38-02e4-4427-abd3-388928a6f68d",
   "metadata": {},
   "outputs": [],
   "source": []
  },
  {
   "cell_type": "code",
   "execution_count": null,
   "id": "a60a7c1c-4827-409f-aa04-e79cd81232d0",
   "metadata": {},
   "outputs": [],
   "source": []
  }
 ],
 "metadata": {
  "kernelspec": {
   "display_name": "Python 3 (ipykernel)",
   "language": "python",
   "name": "python3"
  },
  "language_info": {
   "codemirror_mode": {
    "name": "ipython",
    "version": 3
   },
   "file_extension": ".py",
   "mimetype": "text/x-python",
   "name": "python",
   "nbconvert_exporter": "python",
   "pygments_lexer": "ipython3",
   "version": "3.12.7"
  }
 },
 "nbformat": 4,
 "nbformat_minor": 5
}
