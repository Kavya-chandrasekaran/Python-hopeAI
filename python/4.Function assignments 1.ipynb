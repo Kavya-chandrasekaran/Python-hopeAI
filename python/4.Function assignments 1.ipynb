{
 "cells": [
  {
   "cell_type": "code",
   "execution_count": 7,
   "id": "2201f78b-709e-4288-a401-165d7a224004",
   "metadata": {},
   "outputs": [
    {
     "name": "stdout",
     "output_type": "stream",
     "text": [
      "Subfields in AI are:\n",
      "Machine learning\n",
      "Neural Networks\n",
      "computer vision\n",
      "Robotics\n",
      "speech recognition\n",
      "Natural language processing\n"
     ]
    }
   ],
   "source": [
    "lists=[\"Machine learning\",\"Neural Networks\",\"computer vision\",\"Robotics\",\"speech recognition\",\"Natural language processing\"]\n",
    "def subfields():\n",
    "    print(\"Subfields in AI are:\")\n",
    "    for i in lists:\n",
    "        print(i)\n",
    "subfields()\n",
    "    "
   ]
  },
  {
   "cell_type": "code",
   "execution_count": 12,
   "id": "864e8ffb-d9a8-4bdf-b9c5-e3b32e4cb067",
   "metadata": {},
   "outputs": [
    {
     "name": "stdin",
     "output_type": "stream",
     "text": [
      "Enter a number: 23\n"
     ]
    },
    {
     "name": "stdout",
     "output_type": "stream",
     "text": [
      "23  is odd number\n"
     ]
    }
   ],
   "source": [
    "def oddeven():\n",
    "    num=int(input(\"Enter a number:\"))\n",
    "    if num%2==0:\n",
    "        print(num,\"is even Number\")\n",
    "    else:\n",
    "        print(num,\" is odd number\")\n",
    "oddeven()"
   ]
  },
  {
   "cell_type": "code",
   "execution_count": 20,
   "id": "9bd52e57-9f1a-4bfb-baab-c9f394f330da",
   "metadata": {},
   "outputs": [
    {
     "name": "stdin",
     "output_type": "stream",
     "text": [
      "your gender: female\n",
      "your age: 17\n"
     ]
    },
    {
     "name": "stdout",
     "output_type": "stream",
     "text": [
      "Not eligible\n"
     ]
    }
   ],
   "source": [
    "def elegible():\n",
    "    sex=input(\"your gender:\")\n",
    "    age=int(input(\"your age:\"))\n",
    "    if (sex==\"male\" and age>=21) or (sex==\"female\" and age>=18) :\n",
    "        print(\"eligible\")\n",
    "    else:\n",
    "        print(\"Not eligible\")\n",
    "elegible()\n",
    "    \n",
    "    "
   ]
  },
  {
   "cell_type": "code",
   "execution_count": 1,
   "id": "2952b556-df2a-4bb2-9354-dc5f9f4015d6",
   "metadata": {},
   "outputs": [
    {
     "name": "stdin",
     "output_type": "stream",
     "text": [
      "Subject1= 98\n",
      "Subject2= 97\n",
      "Subject3= 95\n",
      "Subject4= 93\n",
      "Subject5= 92\n"
     ]
    },
    {
     "name": "stdout",
     "output_type": "stream",
     "text": [
      "Total: 475\n",
      "percentage: 95.0\n"
     ]
    }
   ],
   "source": [
    "def percentage():\n",
    "    subject1=int(input(\"Subject1=\"))\n",
    "    subject2=int(input(\"Subject2=\"))\n",
    "    subject3=int(input(\"Subject3=\"))\n",
    "    subject4=int(input(\"Subject4=\"))\n",
    "    subject5=int(input(\"Subject5=\"))\n",
    "    Total=subject1+subject2+subject3+subject4+subject5\n",
    "    print(\"Total:\",Total)\n",
    "    print(\"percentage:\",(Total/500*100))\n",
    "percentage()\n",
    "    \n",
    "    "
   ]
  },
  {
   "cell_type": "code",
   "execution_count": 5,
   "id": "e62c9f13-3f29-4389-b280-7f6f177be3ca",
   "metadata": {},
   "outputs": [
    {
     "name": "stdin",
     "output_type": "stream",
     "text": [
      "Height: 32\n",
      "Breadth: 34\n"
     ]
    },
    {
     "name": "stdout",
     "output_type": "stream",
     "text": [
      "Area of triangle: 544.0\n"
     ]
    },
    {
     "name": "stdin",
     "output_type": "stream",
     "text": [
      "Height1: 2\n",
      "Height2: 4\n",
      "Breadth1: 4\n"
     ]
    },
    {
     "name": "stdout",
     "output_type": "stream",
     "text": [
      "Perimeter of triangle 10\n"
     ]
    }
   ],
   "source": [
    "def triangle():\n",
    "    height=int(input(\"Height:\"))\n",
    "    breadth=int(input(\"Breadth:\"))\n",
    "    print(\"Area of triangle:\",(height*breadth)/2)\n",
    "    height1=int(input(\"Height1:\"))\n",
    "    height2=int(input(\"Height2:\"))\n",
    "    breadth1=int(input(\"Breadth1:\"))\n",
    "    print(\"Perimeter of triangle:,height1+height2+breadth1)\n",
    "triangle()"
   ]
  },
  {
   "cell_type": "code",
   "execution_count": null,
   "id": "e9a3e121-3ea9-4e6c-ba04-b72f5f5781b5",
   "metadata": {},
   "outputs": [],
   "source": []
  }
 ],
 "metadata": {
  "kernelspec": {
   "display_name": "Python 3 (ipykernel)",
   "language": "python",
   "name": "python3"
  },
  "language_info": {
   "codemirror_mode": {
    "name": "ipython",
    "version": 3
   },
   "file_extension": ".py",
   "mimetype": "text/x-python",
   "name": "python",
   "nbconvert_exporter": "python",
   "pygments_lexer": "ipython3",
   "version": "3.12.7"
  }
 },
 "nbformat": 4,
 "nbformat_minor": 5
}
