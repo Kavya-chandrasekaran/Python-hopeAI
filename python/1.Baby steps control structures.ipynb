{
 "cells": [
  {
   "cell_type": "code",
   "execution_count": 1,
   "id": "4bc1a2c9-5d4b-44f3-a1ad-f9b3aecd1728",
   "metadata": {},
   "outputs": [
    {
     "name": "stdout",
     "output_type": "stream",
     "text": [
      "Welcome to Assignment1\n"
     ]
    }
   ],
   "source": [
    "print(\"Welcome to Assignment1\")"
   ]
  },
  {
   "cell_type": "code",
   "execution_count": 24,
   "id": "13234b88-888a-4203-b00a-8849d4bcd116",
   "metadata": {
    "jp-MarkdownHeadingCollapsed": true
   },
   "outputs": [
    {
     "name": "stdin",
     "output_type": "stream",
     "text": [
      "Num1: 10\n",
      "Num2: 30\n"
     ]
    },
    {
     "name": "stdout",
     "output_type": "stream",
     "text": [
      "add= 40\n"
     ]
    }
   ],
   "source": [
    "Num1=int(input(\"Num1:\"))\n",
    "Num2=int(input(\"Num2:\"))\n",
    "print(\"add=\",Num1+Num2)\n"
   ]
  },
  {
   "cell_type": "code",
   "execution_count": 21,
   "id": "89ae784c-2c96-4c7e-adda-0c757a73417a",
   "metadata": {},
   "outputs": [
    {
     "name": "stdin",
     "output_type": "stream",
     "text": [
      "Enter the BMI index: 27\n"
     ]
    },
    {
     "name": "stdout",
     "output_type": "stream",
     "text": [
      "Overweight\n"
     ]
    }
   ],
   "source": [
    "BMI =float(input(\"Enter the BMI index:\"))\n",
    "if (BMI<18.5):\n",
    "    print(\"underweight\")\n",
    "elif(BMI>=18.5 and BMI<=24.9):\n",
    "    print(\"normal weight\")\n",
    "elif(BMI>=25 and BMI<=29.9):\n",
    "    print(\"Overweight\")\n",
    "elif(BMI>=30 and BMI<=34.9):\n",
    "    print(\"Obesity\")\n",
    "else:\n",
    "    print(\"Extreme Obesity\")\n",
    "\n",
    "\n"
   ]
  },
  {
   "cell_type": "code",
   "execution_count": null,
   "id": "d892bfd7-c0bc-49d4-92b0-9cb50cabe8f5",
   "metadata": {},
   "outputs": [],
   "source": []
  },
  {
   "cell_type": "code",
   "execution_count": null,
   "id": "2d9a2b0c-8142-4082-9366-754f9b83cffc",
   "metadata": {},
   "outputs": [],
   "source": []
  }
 ],
 "metadata": {
  "kernelspec": {
   "display_name": "Python 3 (ipykernel)",
   "language": "python",
   "name": "python3"
  },
  "language_info": {
   "codemirror_mode": {
    "name": "ipython",
    "version": 3
   },
   "file_extension": ".py",
   "mimetype": "text/x-python",
   "name": "python",
   "nbconvert_exporter": "python",
   "pygments_lexer": "ipython3",
   "version": "3.12.7"
  }
 },
 "nbformat": 4,
 "nbformat_minor": 5
}
