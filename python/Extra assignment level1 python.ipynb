{
 "cells": [
  {
   "cell_type": "code",
   "execution_count": 1,
   "id": "2f73fdfa-bc9e-40ab-a75a-36b16fe69042",
   "metadata": {},
   "outputs": [
    {
     "name": "stdout",
     "output_type": "stream",
     "text": [
      "HOPE AI\n"
     ]
    }
   ],
   "source": [
    "print(\"HOPE AI\")"
   ]
  },
  {
   "cell_type": "code",
   "execution_count": 3,
   "id": "4e43c96f-2c02-444e-b8a1-638ea6e2713f",
   "metadata": {},
   "outputs": [
    {
     "name": "stdin",
     "output_type": "stream",
     "text": [
      "Enter your institute name? : HOPE AI\n"
     ]
    },
    {
     "data": {
      "text/plain": [
       "'HOPE AI'"
      ]
     },
     "execution_count": 3,
     "metadata": {},
     "output_type": "execute_result"
    }
   ],
   "source": [
    "input(\"Enter your institute name? :\")\n"
   ]
  },
  {
   "cell_type": "code",
   "execution_count": null,
   "id": "16757adb-b0ea-4610-9ecc-b53680a22e5a",
   "metadata": {},
   "outputs": [
    {
     "name": "stdin",
     "output_type": "stream",
     "text": [
      "Enter your name: Kavya\n",
      "Enter you age: 21\n",
      "Enter your school name: Isha school\n"
     ]
    }
   ],
   "source": [
    "input(\"Enter your name:\")\n",
    "int(input(\"Enter you age:\"))\n",
    "input(\"Enter your school name:\")\n",
    "input(\"Enter your degree:\")"
   ]
  },
  {
   "cell_type": "code",
   "execution_count": 11,
   "id": "7c667cdd-b4db-4aba-a1b7-1e0738ce13bf",
   "metadata": {},
   "outputs": [
    {
     "name": "stdin",
     "output_type": "stream",
     "text": [
      "a= 20\n",
      "b= 10\n"
     ]
    },
    {
     "name": "stdout",
     "output_type": "stream",
     "text": [
      "ADD= 30\n",
      "sub= 10\n",
      "mul= 200\n",
      "div= 2.0\n",
      "floor div= 2\n",
      "modulo= 0\n",
      "power= 10240000000000\n"
     ]
    }
   ],
   "source": [
    "a=int(input(\"a=\"))\n",
    "b=int(input(\"b=\"))\n",
    "print(\"ADD=\",a+b)\n",
    "print(\"sub=\",a-b)\n",
    "print(\"mul=\",a*b)\n",
    "print(\"div=\",a/b)\n",
    "print(\"floor div=\",a//b)\n",
    "print(\"modulo=\",a%b)\n",
    "print(\"power=\",a**b)\n",
    "\n",
    "\n",
    "\n"
   ]
  },
  {
   "cell_type": "code",
   "execution_count": null,
   "id": "43be527a-b25b-470d-825f-4e5fb921a5d3",
   "metadata": {},
   "outputs": [],
   "source": []
  }
 ],
 "metadata": {
  "kernelspec": {
   "display_name": "Python 3 (ipykernel)",
   "language": "python",
   "name": "python3"
  },
  "language_info": {
   "codemirror_mode": {
    "name": "ipython",
    "version": 3
   },
   "file_extension": ".py",
   "mimetype": "text/x-python",
   "name": "python",
   "nbconvert_exporter": "python",
   "pygments_lexer": "ipython3",
   "version": "3.12.7"
  }
 },
 "nbformat": 4,
 "nbformat_minor": 5
}
