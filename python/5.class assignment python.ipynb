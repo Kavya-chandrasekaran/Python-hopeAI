{
 "cells": [
  {
   "cell_type": "code",
   "execution_count": 5,
   "id": "a520015e-e930-4236-9472-0aed7f36a064",
   "metadata": {},
   "outputs": [
    {
     "name": "stdout",
     "output_type": "stream",
     "text": [
      "Subfields in AI are:\n",
      "Machine learning\n",
      "Neural Networks\n",
      "computer vision\n",
      "Robotics\n",
      "speech recognition\n",
      "Natural language processing\n"
     ]
    }
   ],
   "source": [
    "class SubfieldsInAI:\n",
    "    def subfields():\n",
    "        lists=[\"Machine learning\",\"Neural Networks\",\"computer vision\",\"Robotics\",\"speech recognition\",\"Natural language processing\"]\n",
    "        print(\"Subfields in AI are:\")\n",
    "        for i in lists:\n",
    "            print(i)\n",
    "SubfieldsInAI.subfields()"
   ]
  },
  {
   "cell_type": "code",
   "execution_count": 9,
   "id": "e744520f-c9c2-48a0-ae92-df50a163328e",
   "metadata": {},
   "outputs": [
    {
     "name": "stdin",
     "output_type": "stream",
     "text": [
      "Enter a number: 576\n"
     ]
    },
    {
     "name": "stdout",
     "output_type": "stream",
     "text": [
      "576 is even Number\n"
     ]
    }
   ],
   "source": [
    "class OddEven:\n",
    "    def oddeven():\n",
    "        num=int(input(\"Enter a number:\"))\n",
    "        if num%2==0:\n",
    "            print(num,\"is even Number\")\n",
    "        else:\n",
    "            print(num,\" is odd number\")\n",
    "OddEven.oddeven()"
   ]
  },
  {
   "cell_type": "code",
   "execution_count": 11,
   "id": "ff02aae2-add6-4e18-a1d0-82065e73aead",
   "metadata": {},
   "outputs": [
    {
     "name": "stdin",
     "output_type": "stream",
     "text": [
      "your gender: female\n",
      "your age: 12\n"
     ]
    },
    {
     "name": "stdout",
     "output_type": "stream",
     "text": [
      "Not eligible\n"
     ]
    }
   ],
   "source": [
    "class ElegibilityForMarriage:\n",
    "    def elegible():\n",
    "        sex=input(\"your gender:\")\n",
    "        age=int(input(\"your age:\"))\n",
    "        if (sex==\"male\" and age>=21) or (sex==\"female\" and age>=18) :\n",
    "            print(\"eligible\")\n",
    "        else:\n",
    "            print(\"Not eligible\")\n",
    "ElegibilityForMarriage.elegible()\n",
    "    "
   ]
  },
  {
   "cell_type": "code",
   "execution_count": 13,
   "id": "ff33a097-f08c-4f1c-953c-48b1d75622db",
   "metadata": {},
   "outputs": [
    {
     "name": "stdin",
     "output_type": "stream",
     "text": [
      "Subject1= 98\n",
      "Subject2= 87\n",
      "Subject3= 95\n",
      "Subject4= 95\n",
      "Subject5= 93\n"
     ]
    },
    {
     "name": "stdout",
     "output_type": "stream",
     "text": [
      "Total: 468\n",
      "percentage: 93.60000000000001\n"
     ]
    }
   ],
   "source": [
    "class FindPercent:\n",
    "    def percentage():\n",
    "        subject1=int(input(\"Subject1=\"))\n",
    "        subject2=int(input(\"Subject2=\"))\n",
    "        subject3=int(input(\"Subject3=\"))\n",
    "        subject4=int(input(\"Subject4=\"))\n",
    "        subject5=int(input(\"Subject5=\"))\n",
    "        Total=subject1+subject2+subject3+subject4+subject5\n",
    "        print(\"Total:\",Total)\n",
    "        print(\"percentage:\",(Total/500*100))\n",
    "FindPercent.percentage()"
   ]
  },
  {
   "cell_type": "code",
   "execution_count": 17,
   "id": "da3dc7dd-23e0-426c-8012-08180ad5386e",
   "metadata": {},
   "outputs": [
    {
     "name": "stdin",
     "output_type": "stream",
     "text": [
      "Height: 32\n",
      "Breadth: 34\n"
     ]
    },
    {
     "name": "stdout",
     "output_type": "stream",
     "text": [
      "Area of triangle: 544.0\n"
     ]
    },
    {
     "name": "stdin",
     "output_type": "stream",
     "text": [
      "Height1: 2\n",
      "Height2: 3\n",
      "Breadth1: 3\n"
     ]
    },
    {
     "name": "stdout",
     "output_type": "stream",
     "text": [
      "Perimeter of triangle: 8\n"
     ]
    }
   ],
   "source": [
    "class Triangle:\n",
    "    def triangle():\n",
    "        height=int(input(\"Height:\"))\n",
    "        breadth=int(input(\"Breadth:\"))\n",
    "        print(\"Area of triangle:\",(height*breadth)/2)\n",
    "        height1=int(input(\"Height1:\"))\n",
    "        height2=int(input(\"Height2:\"))\n",
    "        breadth1=int(input(\"Breadth1:\"))\n",
    "        print(\"Perimeter of triangle:\",height1+height2+breadth1)\n",
    "Triangle.triangle()"
   ]
  },
  {
   "cell_type": "code",
   "execution_count": null,
   "id": "6a6aeeb2-18c5-436f-b1d9-6c22bead669b",
   "metadata": {},
   "outputs": [],
   "source": []
  }
 ],
 "metadata": {
  "kernelspec": {
   "display_name": "Python 3 (ipykernel)",
   "language": "python",
   "name": "python3"
  },
  "language_info": {
   "codemirror_mode": {
    "name": "ipython",
    "version": 3
   },
   "file_extension": ".py",
   "mimetype": "text/x-python",
   "name": "python",
   "nbconvert_exporter": "python",
   "pygments_lexer": "ipython3",
   "version": "3.12.7"
  }
 },
 "nbformat": 4,
 "nbformat_minor": 5
}
